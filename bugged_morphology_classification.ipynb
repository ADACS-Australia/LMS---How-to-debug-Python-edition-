{
  "nbformat": 4,
  "nbformat_minor": 0,
  "metadata": {
    "kernelspec": {
      "display_name": "Python 3",
      "language": "python",
      "name": "python3"
    },
    "language_info": {
      "codemirror_mode": {
        "name": "ipython",
        "version": 3
      },
      "file_extension": ".py",
      "mimetype": "text/x-python",
      "name": "python",
      "nbconvert_exporter": "python",
      "pygments_lexer": "ipython3",
      "version": "3.5.1"
    },
    "colab": {
      "name": "morphology_classification.ipynb",
      "provenance": [],
      "include_colab_link": true
    }
  },
  "cells": [
    {
      "cell_type": "markdown",
      "metadata": {
        "id": "view-in-github",
        "colab_type": "text"
      },
      "source": [
        "<a href=\"https://colab.research.google.com/github/ADACS-Australia/LMS-How-to-debug-Python-edition-/blob/master/bugged_morphology_classification.ipynb\" target=\"_parent\"><img src=\"https://colab.research.google.com/assets/colab-badge.svg\" alt=\"Open In Colab\"/></a>"
      ]
    },
    {
      "cell_type": "markdown",
      "metadata": {
        "id": "bamHnhqlwAcq",
        "colab_type": "text"
      },
      "source": [
        "# Foreword\n",
        "The following code is a modified extract of the masters thesis of Leonie Chevalier studing Low redshift extreme star-forming galaxies in a subset of the GAMA survey.\n",
        "In this particular snippet of code we are examining galaxy morphology using various structural parameters. Measurements of their asymmetry, smoothness and concentration were used to compare them to other galaxy populations such as dwarf elliptical galaxies.\n",
        "\n",
        "Extreme star-forming galaxies are those forming stars at a rate well above the local average.\n",
        "Low redshift extreme star-forming galaxies provide us with an alternative method of studying galaxy evolution at high redshifts. Due to their high levels of star-formation they are an analogue to galaxies that make up the main population at high redshift. The high rate of star forming activity may be due to these galaxies may have undergone recent mergers or are only just now forming their first population of stars.\n",
        "\n",
        "While the original sample contained 175 galaxies the github repoaccompaning this notebook  only contains a small subset of thumbnails to try your hand on if you choose to.\n",
        "\n",
        "Find evyerthing at : https://github.com/ADACS-Australia/LMS-How-to-debug-Python-edition-"
      ]
    },
    {
      "cell_type": "markdown",
      "metadata": {
        "id": "0FmWg2tlEJw7",
        "colab_type": "text"
      },
      "source": [
        "# Your Task\n",
        "\n",
        "This code has several delightful bugs introduced to it. \n",
        "Your job is getting it to 1. run without throwing an exception 2. double check that your results are sensible (hint: initially they won't be we made sure of that)"
      ]
    },
    {
      "cell_type": "code",
      "metadata": {
        "id": "wW-I65XMN_0-",
        "colab_type": "code",
        "colab": {}
      },
      "source": [
        "#--------DATA-------#\n",
        "\n",
        "import matplotlib\n",
        "#matplotlib.use('TkAgg')\n",
        "import numpy as np\n",
        "import matplotlib.gridspec as grid\n",
        "import scipy.misc\n",
        "import scipy.ndimage\n",
        "from astropy.convolution import *\n",
        "import matplotlib.pyplot as plt\n",
        "import random as rnd\n",
        "from astropy.io import fits\n",
        "import sys\n",
        "import fnmatch\n",
        "import os\n",
        "import pylab as py\n",
        "#import pyfits as pyfit\n",
        "\n",
        "%matplotlib inline"
      ],
      "execution_count": 0,
      "outputs": []
    },
    {
      "cell_type": "code",
      "metadata": {
        "id": "6UT2pJ_aN_1H",
        "colab_type": "code",
        "colab": {}
      },
      "source": [
        "\n",
        "\n",
        "#----mock imput data-----#\n",
        "np.random.seed(0)\n",
        "datapoints = 10000\n",
        "x_data1 = np.random.standard_normal(datapoints) #for i in range (0, datapoints)]\n",
        "y_data1 = np.random.standard_normal(datapoints) #for i in range (0, datapoints)]\n",
        "\n",
        "x_data2 = np.random.standard_normal(datapoints)+1\n",
        "y_data2 = np.random.standard_normal(datapoints)+1\n",
        "\n",
        "x_data3 = np.random.standard_normal(datapoints)+1\n",
        "y_data3 = np.random.standard_normal(datapoints)+3\n",
        "\n",
        "x_data4 = np.random.standard_normal(datapoints)*1.5\n",
        "y_data4 = np.random.standard_normal(datapoints)*1.5\n",
        "\n",
        "x_data5 = np.random.standard_normal(datapoints)-1 \n",
        "y_data5 = np.random.standard_normal(datapoints)-1\n",
        "\n",
        "x_data6 = np.random.standard_normal(datapoints)-1\n",
        "y_data6 = np.random.standard_normal(datapoints)-3\n",
        "\n",
        "x_data = x_data3+x_data2+x_data1+x_data4\n",
        "y_data = y_data3+y_data2+y_data1+y_data4\n",
        "\n",
        "H1, xedges, yedges = np.histogram2d(y_data1, x_data1, bins=np.arange(-5.,5.1,0.05))\n",
        "H2, xedges, yedges = np.histogram2d(y_data2, x_data2, bins=np.arange(-5.,5.1,0.05))\n",
        "H3, xedges, yedges = np.histogram2d(y_data3, x_data3, bins=np.arange(-5.,5.1,0.05))\n",
        "H4, xedges, yedges = np.histogram2d(y_data4, x_data4, bins=np.arange(-5.,5.1,0.05))\n",
        "H5, xedges, yedges = np.histogram2d(y_data5, x_data5, bins=np.arange(-5.,5.1,0.05))\n",
        "H6, xedges, yedges = np.histogram2d(y_data6, x_data6, bins=np.arange(-5.,5.1,0.05))\n",
        "\n",
        "# ---- finished mock galaxies\n",
        "B = np.ones((1000,1000))\n",
        "lumpy= H1+H2+H3+H4\n",
        "morelumpy= H1+H2+H3+H4+H5+H6+H1+H2+H3+H4\n",
        "gaussian = H1\n",
        "noisygaussian = H1+H4\n",
        "symmetric = H5+H2\n",
        "\n",
        "#----------------------##----------------------#\n",
        "######SDSS-MORPH CODE#######\n",
        "\n",
        "def aperture_crider(image, radius):\n",
        "    mask_image = np.copy(image)\n",
        "    lx, ly = mask_image.shape\n",
        "    X, Y = np.ogrid[0:lx, 0:ly]\n",
        "    mask = (X - lx / 2) ** 2 + (Y - ly / 2) ** 2 > radius**2\n",
        "    mask_image[mask] = 0\n",
        "    n_pixels = float(lx*ly - mask.sum())\n",
        "    return float(mask_image.sum()), n_pixels\n",
        "    \n",
        "def petrosian_radius(image):\n",
        "    # http://spiff.rit.edu/classes/phys443/lectures/gal_1/petro/petro.html\n",
        "    lx, ly = image.shape\n",
        "    n = (min([lx/2, ly/2]))\n",
        "\n",
        "    r = np.arange(n)\n",
        "    counts = np.arange(n, dtype=np.float)\n",
        "    pixels = np.arange(n)\n",
        "\n",
        "    for i in r:\n",
        "        counts[i], pixels[i] = aperture_crider(image, i)\n",
        "            \n",
        "    local_intensity = (counts[1:n-1] - counts[0:n-2])/(pixels[1:n-1] - pixels[0:n-2])\n",
        "    eta = local_intensity / (counts[1:n-1] / pixels[1:n-1])\n",
        "    \n",
        "    # Use ETA cutoff of 0.2 as SDSS does.\n",
        "    radii = r[np.where(eta<=0.2)]\n",
        "    petradius=  radii[0]\n",
        "    return petradius      \n",
        "#----------------------##----------------------#\n",
        "#----------------------##----------------------#\n",
        "def appt(radius,image):\n",
        "    #line ne possibly taken out when run with stamp!! make function to make stamps of everything !!\n",
        "    centera,centerb = scipy.ndimage.measurements.center_of_mass(image)\n",
        "    nx,ny = image.shape\n",
        "    y,x = np.ogrid[-centera:nx-centera,-centerb:ny-centerb]\n",
        "    mask = x*x + y*y <= radius*radius\n",
        "    counts =   sum(image[mask]) \n",
        "    return counts\n",
        "\n",
        "def light_profile(image):\n",
        "    x,y = image.shape\n",
        "    n =min([x/2, y/2]) # /2 due to radius calculation\n",
        "    I=()\n",
        "    for i in np.arange(1,n+1.):# start at radius of 1 then work outwards keep 0 for Io??\n",
        "        I.append(appt(i,image))\n",
        "    return I\n",
        "\n",
        "def halflight_radius(image):  \n",
        "    x,y = image.shape\n",
        "    I = light_profile(image)\n",
        "    L = I/I[len(I)-1]\n",
        "    HL = np.argmax(L>=0.5)\n",
        "    return HL, L[HL]\n",
        "       \n",
        "        #possible problem due to working in counts and not in counts per pixel ?    \n",
        "def petrosian_radius_own(image): \n",
        "    lx =np.arange(image.shape[0]) #lenght of x axis\n",
        "    ly = np.arange(image.shape[1])#lenght of y axis\n",
        "    coordinates = [np.meshgrid(lx,ly)]#---->list\n",
        "    gal_coord = np.where (image>0) \n",
        "    #Intensity_total = np.sum(image)\n",
        "    Intensities = image[coordinates] #galaxy only excludes 0s\n",
        "    #Intensity_mean =np.mean( image[gal_coord])\n",
        "    K =light_profile(image)\n",
        "    r= np.arange(1,len(K),1)\n",
        "    \n",
        "    pet_frac=[light_profile(image)[0]]\n",
        "    for i in r:\n",
        "        pet_frac.append(np.mean(light_profile(image)[:i+1])/(light_profile[i]-light_profile(image)[i-1]))\n",
        "       \n",
        "    pr =np.where(np.array(pet_frac) <=5)\n",
        "    #petradius=  np.min(pr)\n",
        "    return pr,pet_frac\n",
        "    \n",
        "def smoothness(image):\n",
        "    original = image\n",
        "    pr =0.1*petrosian_radius(image)\n",
        "    smooth = convolve(original,Box2DKernel(pr))\n",
        "    plt.figure()\n",
        "    G = grid.GridSpec (2,2)\n",
        "    axes_1 = py.subplot(G[0, :-1])\n",
        "    plt.imshow(image, interpolation = 'none')\n",
        "    plt.title('Original')\n",
        "    #pl.plot(X,Y,\"k:\",ms=1,linewidth=2.0)\n",
        "    axes_2 = py.subplot(G[0, -1])\n",
        "    plt. imshow(smooth, interpolation = 'none')\n",
        "    plt.title('Smoothed')\n",
        "    smoothness_factor = np.sum(np.abs(image-smooth))/np.sum(image)\n",
        "    #print smoothness_factor\n",
        "    axes_3 = py.subplot(G[1, :])\n",
        "    plt.imshow((image-smooth), interpolation ='none')\n",
        "    plt.show()  \n",
        "    return smoothness_factor\n",
        "    \n",
        "def concentration(image):\n",
        "\n",
        "  #### HINT: something is wrong with the luminosity thats calculated here!\n",
        "    x,y = image.shape\n",
        "    I = light_profile(image)\n",
        "    L = I/I[len(I)]\n",
        "    HL = np.argmax(L>=0.5)\n",
        "    C20 =  np.argmax(L>=0.2)\n",
        "    C80 =  np.argmax(L>=0.8)\n",
        "    C=5*np.log10(C80/C20)\n",
        "    return C\n",
        "    \n",
        "def stamp(image):\n",
        "    center =scipy.ndimage.measurements.center_of_mass(image)\n",
        "    centery = center[0]\n",
        "    centerx= center[1]\n",
        "    #print 'Center',center\n",
        "# crop image to center on barycenter coordianates\n",
        "# try to define offset rom real center and then crop from there [miny+Ay:maxy+Ay,minx+Ax:maxx+Ax]\n",
        "\n",
        "    R_Y=len(yedges)/2\n",
        "    R_X= len(xedges)/2\n",
        "    Ax = (centerx-R_X)\n",
        "    Ay = (centery-R_Y)\n",
        "    #print 'X dimension', centerx, R_X\n",
        "    #print 'Y dmension', centery, R_Y\n",
        "\n",
        "    stamp = image[Ay:len(yedges)+Ay, Ax:len(xedges)+Ax]\n",
        "    return stamp\n",
        "\n",
        "\n",
        "def Asymetry(image):\n",
        "    \n",
        "    R = np.rot90((image))\n",
        "    Asym =np.sum(np.abs((image)-R))/np.sum((image))\n",
        "     \n",
        "    plt.figure()\n",
        "    G = grid.GridSpec (2,2)\n",
        "    axes_1 = py.subplot(G[0, :-1])\n",
        "    plt.imshow((image), interpolation = 'none')\n",
        "    plt.title('Original')\n",
        "    axes_2 = py.subplot(G[0, -1])\n",
        "    plt. imshow(R, interpolation = 'none')\n",
        "    plt.title('Rotated')\n",
        "    axes_3 = py.subplot(G[1, :])\n",
        "    plt.imshow((image)-R, interpolation = 'none')\n",
        "    plt.show()\n",
        "    #plt.savefig(str(image)+'.png')\n",
        "    return Asym\n",
        "    \n",
        "    \n",
        "def Morph(image):\n",
        "    asymetry = Asymetry(image)\n",
        "    con = concentration(image)\n",
        "    halflight =halflight_radius(image)\n",
        "    profile =light_profile(image)\n",
        "    smoothed = smoothness(image)\n",
        "    return asymetry,con, smoothed\n",
        "    "
      ],
      "execution_count": 0,
      "outputs": []
    },
    {
      "cell_type": "code",
      "metadata": {
        "id": "QWilgaPRN_1J",
        "colab_type": "code",
        "colab": {}
      },
      "source": [
        "Morph(morelumpy)"
      ],
      "execution_count": 0,
      "outputs": []
    },
    {
      "cell_type": "markdown",
      "metadata": {
        "id": "dgf7hRYBdl9K",
        "colab_type": "text"
      },
      "source": [
        "# There is more!\n",
        "\n",
        "The mock data we provided in the previous cells is very simple, just a few gaussians and noise. That has been enough to demonstate and test the concept of what we wanted our functions to achieve.\n",
        "However when this code was first written it was intended to process and classify the morphology of a large subset of galaxies from the GAMA survey.\n",
        "\n",
        "The galaxy images are stored in fits files and are decidedly larger and more complex then our test galaxies. While writing the test cases we wanted to get as close to the real problem as possibl while keeping it small and managable and most importantly simple to code up and not introduce weird and wonderful bugs. However as they are so much more simplified this means we will almost certainly run into something we haven't taken into consideration or were not expecting. So don't panic if it does not work the first time round and you have to make adjustments.\n",
        "\n"
      ]
    },
    {
      "cell_type": "code",
      "metadata": {
        "id": "cd5HsP5pe4rq",
        "colab_type": "code",
        "colab": {}
      },
      "source": [
        "import astropy.io.fits as fits\n",
        "\n",
        "target_url = 'https://github.com/ADACS-Australia/LMS-How-to-debug-Python-edition-/blob/master/thumbnails/G231200_SDSS_r.fits?raw=true'\n",
        "# the snipped below was purpusfully broken! (it will open but you won't get data out)\n",
        "# Check out the documentation for the function for help \n",
        "# Or look at the notebook of the solutions\n",
        "dat = fits.open(target_url)\n",
        "\n"
      ],
      "execution_count": 0,
      "outputs": []
    },
    {
      "cell_type": "code",
      "metadata": {
        "id": "aWTWKvWBe9dQ",
        "colab_type": "code",
        "colab": {}
      },
      "source": [
        "image = dat[0].data\n",
        "Morph(image)"
      ],
      "execution_count": 0,
      "outputs": []
    },
    {
      "cell_type": "markdown",
      "metadata": {
        "id": "bZjRqRIZ_DhQ",
        "colab_type": "text"
      },
      "source": [
        "As you can see on this fits file from the GAMA survey our code still ran without error. But you can see that the galaxy in the image is rather small and there are other objects/ noise in the image that could influance any measrurements. As an *Excercise* try using the *stamp* funcation to create smaller images centered on the galaxy that cut out most of the unwanted stuff.\n",
        "\n",
        "And to take it a step further check out the rest of the thumbnails in our github repository!"
      ]
    },
    {
      "cell_type": "code",
      "metadata": {
        "id": "CxjNmxIsux_Z",
        "colab_type": "code",
        "colab": {}
      },
      "source": [
        ""
      ],
      "execution_count": 0,
      "outputs": []
    }
  ]
}